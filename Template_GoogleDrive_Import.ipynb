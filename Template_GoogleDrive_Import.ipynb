{
  "nbformat": 4,
  "nbformat_minor": 0,
  "metadata": {
    "colab": {
      "name": "Template_GoogleDrive_Import.ipynb",
      "provenance": [],
      "authorship_tag": "ABX9TyM8xObcXXVj4q0aBc+SfIyF",
      "include_colab_link": true
    },
    "kernelspec": {
      "name": "python3",
      "display_name": "Python 3"
    },
    "language_info": {
      "name": "python"
    }
  },
  "cells": [
    {
      "cell_type": "markdown",
      "metadata": {
        "id": "view-in-github",
        "colab_type": "text"
      },
      "source": [
        "<a href=\"https://colab.research.google.com/github/Michael-AI-ML/teaching/blob/main/Template_GoogleDrive_Import.ipynb\" target=\"_parent\"><img src=\"https://colab.research.google.com/assets/colab-badge.svg\" alt=\"Open In Colab\"/></a>"
      ]
    },
    {
      "cell_type": "code",
      "metadata": {
        "id": "0JMF6jYsVwsR"
      },
      "source": [
        "#For Google Colab, use to import data from Google Drive\n",
        "#Author Michael McCarthy mbmccart@utica.edu\n",
        "import pandas as pd\n",
        "from matplotlib import pyplot as plt\n",
        "import numpy as np\n",
        "#It is a function that renders the figure in a notebook (instead of displaying a dump of the figure object).\n",
        "%matplotlib inline\n",
        "# To remove the scientific notation from numpy arrays\n",
        "np.set_printoptions(suppress=True)"
      ],
      "execution_count": null,
      "outputs": []
    },
    {
      "cell_type": "code",
      "metadata": {
        "id": "rvOh3OwyWelW"
      },
      "source": [
        "#https://pypi.org/project/PyDrive/\n",
        "!pip install -U -q PyDrive\n",
        "from pydrive.auth import GoogleAuth\n",
        "from pydrive.drive import GoogleDrive\n",
        "from google.colab import auth\n",
        "from oauth2client.client import GoogleCredentials"
      ],
      "execution_count": null,
      "outputs": []
    },
    {
      "cell_type": "code",
      "metadata": {
        "id": "siFOuBXWWh7v"
      },
      "source": [
        "#authenticate users to have acces to google Drive.  Click the link to get the code. \n",
        "# A seperate Google Window will open in your browser to authenticate.  Copy code the very long code and paste it into the Colab. Hit enter.  \n",
        "\n",
        "auth.authenticate_user()\n",
        "gauth = GoogleAuth()\n",
        "gauth.credentials = GoogleCredentials.get_application_default()\n",
        "drive = GoogleDrive(gauth)"
      ],
      "execution_count": null,
      "outputs": []
    },
    {
      "cell_type": "code",
      "metadata": {
        "id": "1OLXhWG9tMAT"
      },
      "source": [
        "#Get the file\n",
        "#update the \"alpha-numerica_fileID\" and the \"filename.csv\"\n",
        "#data from ____ (show your data's source here)\n",
        "\n",
        "downloaded = drive.CreateFile({'id':'alpha-numerica_fileID'}) # replace the id with id of file you want to access\n",
        "downloaded.GetContentFile('filename.csv') "
      ],
      "execution_count": null,
      "outputs": []
    },
    {
      "cell_type": "code",
      "metadata": {
        "id": "XzqsrWr-td4L"
      },
      "source": [
        "#read the file\n",
        "# update \"filename.csv\"\n",
        "df = pd.read_csv(\"filename.csv\")\n",
        "print(df.shape)\n",
        "##show a random sample of records (in this case, 10)\n",
        "df.sample(10)\n",
        "\n",
        "##show the top records (default is 5)\n",
        "print(df.head())\n",
        "#Displace the varaible types\n",
        "print(df.dtypes)\n",
        "print(df.shape)"
      ],
      "execution_count": null,
      "outputs": []
    }
  ]
}