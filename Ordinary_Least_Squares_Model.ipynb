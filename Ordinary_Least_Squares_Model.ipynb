{
  "nbformat": 4,
  "nbformat_minor": 0,
  "metadata": {
    "colab": {
      "provenance": []
    },
    "kernelspec": {
      "name": "python3",
      "display_name": "Python 3"
    },
    "language_info": {
      "name": "python"
    }
  },
  "cells": [
    {
      "cell_type": "markdown",
      "source": [
        "# Business Understanding\n",
        "\n",
        "Purpose: Model the relationship between the target variable, Test_Score, and the independent variable(s): Hours_Studied.\n",
        "\n"
      ],
      "metadata": {
        "id": "icQzlHLlqTdS"
      }
    },
    {
      "cell_type": "markdown",
      "source": [
        "# Library Loading"
      ],
      "metadata": {
        "id": "Adq_862vpY9U"
      }
    },
    {
      "cell_type": "markdown",
      "source": [
        "Import the Libraries we need\n"
      ],
      "metadata": {
        "id": "x0G7BKf3trrg"
      }
    },
    {
      "cell_type": "code",
      "execution_count": null,
      "metadata": {
        "id": "HyyixYXYtfda"
      },
      "outputs": [],
      "source": [
        "import pandas as pd\n",
        "from sklearn.linear_model import LinearRegression\n",
        "## NOTE science kit learn requires numerical variables. It will not work with categorical variables that uses string variables.\n",
        "import matplotlib.pyplot as plt\n",
        "from sklearn.metrics import r2_score, mean_absolute_error, mean_squared_error, mean_absolute_percentage_error, root_mean_squared_error"
      ]
    },
    {
      "cell_type": "markdown",
      "source": [
        "# Data Loading"
      ],
      "metadata": {
        "id": "hosARQefpdma"
      }
    },
    {
      "cell_type": "markdown",
      "source": [
        "Setup the initial data for our model"
      ],
      "metadata": {
        "id": "KpoDHPHJt29H"
      }
    },
    {
      "cell_type": "code",
      "source": [
        "# Data\n",
        "data = {\n",
        "    \"Hours_Studied\": [1, 2, 3, 4, 5],\n",
        "    \"Test_Score\": [50, 56, 60, 63, 68]\n",
        "}\n",
        "df = pd.DataFrame(data)\n",
        "df.head()\n"
      ],
      "metadata": {
        "id": "FTxhPlVntpeQ"
      },
      "execution_count": null,
      "outputs": []
    },
    {
      "cell_type": "markdown",
      "source": [
        "# Data Understanding: Exploratory Data Analysis"
      ],
      "metadata": {
        "id": "DqF7W1KFphRq"
      }
    },
    {
      "cell_type": "code",
      "source": [
        "df.describe()"
      ],
      "metadata": {
        "id": "ow9vhm11pXIJ"
      },
      "execution_count": null,
      "outputs": []
    },
    {
      "cell_type": "markdown",
      "source": [
        "# Data Preparation"
      ],
      "metadata": {
        "id": "wFpRndkmq9v9"
      }
    },
    {
      "cell_type": "markdown",
      "source": [
        "Setup our variables"
      ],
      "metadata": {
        "id": "eZeotJLduCO6"
      }
    },
    {
      "cell_type": "code",
      "source": [
        "# Predictor and response variables\n",
        "X = df[['Hours_Studied']] # also called \"Independent Variables\"; there can be many variables, but there is only one for this example\n",
        "y = df['Test_Score']      # also called \"Target Variabele\" or \"Dependent Variable\"; there can be only one\n"
      ],
      "metadata": {
        "id": "jAjfjBx_trOc"
      },
      "execution_count": null,
      "outputs": []
    },
    {
      "cell_type": "markdown",
      "source": [
        "# Modeling"
      ],
      "metadata": {
        "id": "c-TwroJ7rC0x"
      }
    },
    {
      "cell_type": "markdown",
      "source": [
        "Initialize the model"
      ],
      "metadata": {
        "id": "q6wmwSWiuNEY"
      }
    },
    {
      "cell_type": "code",
      "source": [
        "# Model fitting\n",
        "model = LinearRegression()\n",
        "model.fit(X, y)\n"
      ],
      "metadata": {
        "id": "rcY9KtuPtwpF"
      },
      "execution_count": null,
      "outputs": []
    },
    {
      "cell_type": "markdown",
      "source": [
        "Calculate slope and intercept"
      ],
      "metadata": {
        "id": "IXXNViYzuSvw"
      }
    },
    {
      "cell_type": "code",
      "source": [
        "# Slope and intercept\n",
        "slope = model.coef_[0]\n",
        "intercept = model.intercept_\n",
        "print(\"Slope (beta_1):\", slope)\n",
        "print(\"Intercept (beta_0):\", intercept)\n"
      ],
      "metadata": {
        "id": "E3uVL7QJuUvO"
      },
      "execution_count": null,
      "outputs": []
    },
    {
      "cell_type": "markdown",
      "source": [
        "# Evaluation"
      ],
      "metadata": {
        "id": "4Y4gPrkarfpC"
      }
    },
    {
      "cell_type": "markdown",
      "source": [
        "Test predicting based on the intial hour studied"
      ],
      "metadata": {
        "id": "XZJxhKCguZt0"
      }
    },
    {
      "cell_type": "code",
      "source": [
        "# Predictions\n",
        "predictions = model.predict(X)\n",
        "print(\"Predicted Test Scores:\", predictions)\n"
      ],
      "metadata": {
        "id": "Hu2iQEZXuX1N"
      },
      "execution_count": null,
      "outputs": []
    },
    {
      "cell_type": "markdown",
      "source": [
        "Plot the model"
      ],
      "metadata": {
        "id": "m0cLxWOdupUr"
      }
    },
    {
      "cell_type": "code",
      "source": [
        "# Plotting\n",
        "plt.scatter(X, y, color='blue', label='Actual Data')\n",
        "plt.plot(X, predictions, color='red', label='OLS Regression Line')\n",
        "plt.xlabel(\"Hours Studied\")\n",
        "plt.ylabel(\"Test Score\")\n",
        "plt.legend()\n",
        "plt.show()\n"
      ],
      "metadata": {
        "id": "gHLtnADiunor"
      },
      "execution_count": null,
      "outputs": []
    },
    {
      "cell_type": "markdown",
      "source": [
        "Now lets give the model a new data point and test where it fits"
      ],
      "metadata": {
        "id": "MuhttSNDvDXw"
      }
    },
    {
      "cell_type": "code",
      "source": [
        "# New data point\n",
        "new_hours_studied = [[6]]  # Input should be in a 2D array format for sklearn\n",
        "\n",
        "# Predict the test score for the new data point\n",
        "predicted_score = model.predict(new_hours_studied)\n",
        "print(\"Predicted Test Score for 6 hours studied:\", predicted_score[0])\n"
      ],
      "metadata": {
        "id": "yj4ogBy3urzO"
      },
      "execution_count": null,
      "outputs": []
    },
    {
      "cell_type": "markdown",
      "source": [
        "Lets visualize where our new data is predicted to fit"
      ],
      "metadata": {
        "id": "y-5KQ3coovUi"
      }
    },
    {
      "cell_type": "code",
      "source": [
        "plt.scatter(X, y, color='blue', label='Actual Data')\n",
        "plt.plot(X, predictions, color='red', label='OLS Regression Line')\n",
        "plt.scatter(new_hours_studied, predicted_score, color='green', marker='x', s=100, label='New Prediction')\n",
        "plt.xlabel(\"Hours Studied\")\n",
        "plt.ylabel(\"Test Score\")\n",
        "plt.legend()\n",
        "plt.show()\n"
      ],
      "metadata": {
        "id": "cZOHd1H7oslg"
      },
      "execution_count": null,
      "outputs": []
    },
    {
      "cell_type": "markdown",
      "source": [
        "Calculate the residuals for the training data (r1, r2)"
      ],
      "metadata": {
        "id": "aKgPdRSpvUok"
      }
    },
    {
      "cell_type": "code",
      "source": [
        "# Calculate residuals\n",
        "residuals = y - predictions\n",
        "print(\"Residuals:\", residuals)\n"
      ],
      "metadata": {
        "id": "7fL4XYUdvKOT"
      },
      "execution_count": null,
      "outputs": []
    },
    {
      "cell_type": "markdown",
      "source": [
        "Summarize the residuals(Mean and Standard Deviation)"
      ],
      "metadata": {
        "id": "VZ188owcvbgs"
      }
    },
    {
      "cell_type": "code",
      "source": [
        "# Summary statistics for residuals\n",
        "mean_residual = residuals.mean()\n",
        "std_residual = residuals.std()\n",
        "\n",
        "print(\"Mean Residual:\", mean_residual)\n",
        "print(\"Standard Deviation of Residuals:\", std_residual)\n"
      ],
      "metadata": {
        "id": "I2fXFXLVvXQ0"
      },
      "execution_count": null,
      "outputs": []
    },
    {
      "cell_type": "code",
      "source": [
        "# Calculate R-squared\n",
        "r2 = r2_score(y, predictions)\n",
        "print(\"R-squared:\", r2)\n"
      ],
      "metadata": {
        "id": "avbPfZOwrq7F"
      },
      "execution_count": null,
      "outputs": []
    },
    {
      "cell_type": "code",
      "source": [
        "# Understandable R-Squared: report percentage by multiplying r2 by 100 & rounding to 2 decimal places\n",
        "r2_percentage = round(r2 * 100, 2)\n",
        "print(\"R-squared percentage: \", r2_percentage)\n"
      ],
      "metadata": {
        "id": "-jx4Ogt9rv1J"
      },
      "execution_count": null,
      "outputs": []
    },
    {
      "cell_type": "code",
      "source": [
        "# Calculate MAE for the model rounded to 4 decimal places\n",
        "mae = mean_absolute_error(y, predictions)\n",
        "print(f\"Mean Absolute Error (MAE): {mae:.4f}\")\n"
      ],
      "metadata": {
        "id": "2-XIxn0lsWxf"
      },
      "execution_count": null,
      "outputs": []
    },
    {
      "cell_type": "code",
      "source": [
        "# Calculate MAE for the model rounded to 4 decimal places\n",
        "mse = mean_squared_error(y, predictions)\n",
        "print(f\"Mean Squared Error (MSE): {mse:.4f}\")\n"
      ],
      "metadata": {
        "id": "GXGGmWKWSQ3j"
      },
      "execution_count": null,
      "outputs": []
    },
    {
      "cell_type": "code",
      "source": [
        "# Calculate MAPE for the model rounded to 4 decimal places\n",
        "mape = mean_absolute_percentage_error(y, predictions)\n",
        "print(f\"Mean Absolute Percent Error (MAPE): {mape:.4f}\")\n"
      ],
      "metadata": {
        "id": "81xkNn9uSlSJ"
      },
      "execution_count": null,
      "outputs": []
    },
    {
      "cell_type": "code",
      "source": [
        "# Calculate RMSE for the model rounded to 4 decimal places\n",
        "rmse = root_mean_squared_error(y, predictions)\n",
        "print(f\"Roote Mean Squared Error (RMSE): {rmse:.4f}\")\n"
      ],
      "metadata": {
        "id": "jhwirpvOTD50"
      },
      "execution_count": null,
      "outputs": []
    }
  ]
}